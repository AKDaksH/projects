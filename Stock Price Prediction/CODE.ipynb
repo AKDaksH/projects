{
 "cells": [
  {
   "cell_type": "markdown",
   "id": "c52d497e",
   "metadata": {},
   "source": [
    "# STOCK PRICE PREDICTION"
   ]
  },
  {
   "cell_type": "markdown",
   "id": "95497434",
   "metadata": {},
   "source": [
    "### IMPORTING MODULES AND LIBRARIES"
   ]
  },
  {
   "cell_type": "code",
   "execution_count": 1,
   "id": "d183b911",
   "metadata": {},
   "outputs": [],
   "source": [
    "import matplotlib.pyplot as plt\n",
    "import pandas_datareader as pdr\n",
    "import datetime\n",
    "import pandas as pd\n",
    "import numpy as np\n",
    "from sklearn.preprocessing import MinMaxScaler\n",
    "import numpy\n",
    "from tensorflow.keras.models import Sequential\n",
    "from tensorflow.keras.layers import Dense\n",
    "from tensorflow.keras.layers import LSTM\n",
    "from keras.layers import Dropout\n",
    "from tensorflow.keras.layers import Input\n",
    "import math\n",
    "from sklearn.metrics import mean_absolute_percentage_error\n",
    "from sklearn.metrics import mean_squared_error\n",
    "from keras.layers import Bidirectional"
   ]
  },
  {
   "cell_type": "markdown",
   "id": "c141aec9",
   "metadata": {},
   "source": [
    "## GATHERING DATA"
   ]
  },
  {
   "cell_type": "markdown",
   "id": "33891d4f",
   "metadata": {},
   "source": [
    "collecting data using tiingo for google ans saving it as a CSV file"
   ]
  },
  {
   "cell_type": "code",
   "execution_count": 2,
   "id": "49b85774",
   "metadata": {},
   "outputs": [
    {
     "name": "stderr",
     "output_type": "stream",
     "text": [
      "C:\\anaconda\\envs\\tensor\\lib\\site-packages\\pandas_datareader\\tiingo.py:234: FutureWarning: In a future version of pandas all arguments of concat except for the argument 'objs' will be keyword-only.\n",
      "  return pd.concat(dfs, self._concat_axis)\n"
     ]
    }
   ],
   "source": [
    "key=\"1ffb7772002d6f16bed86a174622df968700f417\"\n",
    "stock_data = pdr.get_data_tiingo('MSFT', api_key=key)\n",
    "stock_data.to_csv('MSFT.csv')"
   ]
  },
  {
   "cell_type": "markdown",
   "id": "2ae708e0",
   "metadata": {},
   "source": [
    "reading the data from the saved goog.csv"
   ]
  },
  {
   "cell_type": "code",
   "execution_count": 42,
   "id": "8a8bd7ff",
   "metadata": {},
   "outputs": [
    {
     "data": {
      "text/html": [
       "<div>\n",
       "<style scoped>\n",
       "    .dataframe tbody tr th:only-of-type {\n",
       "        vertical-align: middle;\n",
       "    }\n",
       "\n",
       "    .dataframe tbody tr th {\n",
       "        vertical-align: top;\n",
       "    }\n",
       "\n",
       "    .dataframe thead th {\n",
       "        text-align: right;\n",
       "    }\n",
       "</style>\n",
       "<table border=\"1\" class=\"dataframe\">\n",
       "  <thead>\n",
       "    <tr style=\"text-align: right;\">\n",
       "      <th></th>\n",
       "      <th>close</th>\n",
       "      <th>high</th>\n",
       "      <th>low</th>\n",
       "      <th>open</th>\n",
       "      <th>volume</th>\n",
       "      <th>adjClose</th>\n",
       "      <th>adjHigh</th>\n",
       "      <th>adjLow</th>\n",
       "      <th>adjOpen</th>\n",
       "      <th>adjVolume</th>\n",
       "      <th>divCash</th>\n",
       "      <th>splitFactor</th>\n",
       "    </tr>\n",
       "  </thead>\n",
       "  <tbody>\n",
       "    <tr>\n",
       "      <th>count</th>\n",
       "      <td>1258.000000</td>\n",
       "      <td>1258.000000</td>\n",
       "      <td>1258.000000</td>\n",
       "      <td>1258.000000</td>\n",
       "      <td>1.258000e+03</td>\n",
       "      <td>1258.000000</td>\n",
       "      <td>1258.000000</td>\n",
       "      <td>1258.000000</td>\n",
       "      <td>1258.000000</td>\n",
       "      <td>1.258000e+03</td>\n",
       "      <td>1258.000000</td>\n",
       "      <td>1258.0</td>\n",
       "    </tr>\n",
       "    <tr>\n",
       "      <th>mean</th>\n",
       "      <td>176.341991</td>\n",
       "      <td>178.093015</td>\n",
       "      <td>174.418365</td>\n",
       "      <td>176.318311</td>\n",
       "      <td>2.945157e+07</td>\n",
       "      <td>173.007573</td>\n",
       "      <td>174.728058</td>\n",
       "      <td>171.118099</td>\n",
       "      <td>172.984522</td>\n",
       "      <td>2.945157e+07</td>\n",
       "      <td>0.007989</td>\n",
       "      <td>1.0</td>\n",
       "    </tr>\n",
       "    <tr>\n",
       "      <th>std</th>\n",
       "      <td>79.043551</td>\n",
       "      <td>79.881292</td>\n",
       "      <td>78.135453</td>\n",
       "      <td>79.055122</td>\n",
       "      <td>1.299929e+07</td>\n",
       "      <td>80.153315</td>\n",
       "      <td>81.002817</td>\n",
       "      <td>79.233365</td>\n",
       "      <td>80.165298</td>\n",
       "      <td>1.299929e+07</td>\n",
       "      <td>0.063521</td>\n",
       "      <td>0.0</td>\n",
       "    </tr>\n",
       "    <tr>\n",
       "      <th>min</th>\n",
       "      <td>68.170000</td>\n",
       "      <td>68.780000</td>\n",
       "      <td>68.020000</td>\n",
       "      <td>68.255000</td>\n",
       "      <td>7.425503e+06</td>\n",
       "      <td>63.835067</td>\n",
       "      <td>64.406277</td>\n",
       "      <td>63.694606</td>\n",
       "      <td>63.914662</td>\n",
       "      <td>7.425503e+06</td>\n",
       "      <td>0.000000</td>\n",
       "      <td>1.0</td>\n",
       "    </tr>\n",
       "    <tr>\n",
       "      <th>25%</th>\n",
       "      <td>106.272500</td>\n",
       "      <td>107.582500</td>\n",
       "      <td>105.167500</td>\n",
       "      <td>106.325000</td>\n",
       "      <td>2.112136e+07</td>\n",
       "      <td>102.167389</td>\n",
       "      <td>103.240476</td>\n",
       "      <td>101.010022</td>\n",
       "      <td>102.181827</td>\n",
       "      <td>2.112136e+07</td>\n",
       "      <td>0.000000</td>\n",
       "      <td>1.0</td>\n",
       "    </tr>\n",
       "    <tr>\n",
       "      <th>50%</th>\n",
       "      <td>153.435000</td>\n",
       "      <td>155.480000</td>\n",
       "      <td>150.965000</td>\n",
       "      <td>151.980000</td>\n",
       "      <td>2.626938e+07</td>\n",
       "      <td>150.092341</td>\n",
       "      <td>151.998061</td>\n",
       "      <td>147.631744</td>\n",
       "      <td>148.699514</td>\n",
       "      <td>2.626938e+07</td>\n",
       "      <td>0.000000</td>\n",
       "      <td>1.0</td>\n",
       "    </tr>\n",
       "    <tr>\n",
       "      <th>75%</th>\n",
       "      <td>243.555000</td>\n",
       "      <td>245.262500</td>\n",
       "      <td>241.410000</td>\n",
       "      <td>243.600000</td>\n",
       "      <td>3.380413e+07</td>\n",
       "      <td>241.005333</td>\n",
       "      <td>242.131663</td>\n",
       "      <td>238.766032</td>\n",
       "      <td>240.667174</td>\n",
       "      <td>3.380413e+07</td>\n",
       "      <td>0.000000</td>\n",
       "      <td>1.0</td>\n",
       "    </tr>\n",
       "    <tr>\n",
       "      <th>max</th>\n",
       "      <td>343.110000</td>\n",
       "      <td>349.670000</td>\n",
       "      <td>342.200000</td>\n",
       "      <td>344.620000</td>\n",
       "      <td>1.112421e+08</td>\n",
       "      <td>341.567704</td>\n",
       "      <td>348.098217</td>\n",
       "      <td>340.661795</td>\n",
       "      <td>343.070917</td>\n",
       "      <td>1.112421e+08</td>\n",
       "      <td>0.620000</td>\n",
       "      <td>1.0</td>\n",
       "    </tr>\n",
       "  </tbody>\n",
       "</table>\n",
       "</div>"
      ],
      "text/plain": [
       "             close         high          low         open        volume  \\\n",
       "count  1258.000000  1258.000000  1258.000000  1258.000000  1.258000e+03   \n",
       "mean    176.341991   178.093015   174.418365   176.318311  2.945157e+07   \n",
       "std      79.043551    79.881292    78.135453    79.055122  1.299929e+07   \n",
       "min      68.170000    68.780000    68.020000    68.255000  7.425503e+06   \n",
       "25%     106.272500   107.582500   105.167500   106.325000  2.112136e+07   \n",
       "50%     153.435000   155.480000   150.965000   151.980000  2.626938e+07   \n",
       "75%     243.555000   245.262500   241.410000   243.600000  3.380413e+07   \n",
       "max     343.110000   349.670000   342.200000   344.620000  1.112421e+08   \n",
       "\n",
       "          adjClose      adjHigh       adjLow      adjOpen     adjVolume  \\\n",
       "count  1258.000000  1258.000000  1258.000000  1258.000000  1.258000e+03   \n",
       "mean    173.007573   174.728058   171.118099   172.984522  2.945157e+07   \n",
       "std      80.153315    81.002817    79.233365    80.165298  1.299929e+07   \n",
       "min      63.835067    64.406277    63.694606    63.914662  7.425503e+06   \n",
       "25%     102.167389   103.240476   101.010022   102.181827  2.112136e+07   \n",
       "50%     150.092341   151.998061   147.631744   148.699514  2.626938e+07   \n",
       "75%     241.005333   242.131663   238.766032   240.667174  3.380413e+07   \n",
       "max     341.567704   348.098217   340.661795   343.070917  1.112421e+08   \n",
       "\n",
       "           divCash  splitFactor  \n",
       "count  1258.000000       1258.0  \n",
       "mean      0.007989          1.0  \n",
       "std       0.063521          0.0  \n",
       "min       0.000000          1.0  \n",
       "25%       0.000000          1.0  \n",
       "50%       0.000000          1.0  \n",
       "75%       0.000000          1.0  \n",
       "max       0.620000          1.0  "
      ]
     },
     "execution_count": 42,
     "metadata": {},
     "output_type": "execute_result"
    }
   ],
   "source": [
    "stocks_data=pd.read_csv('MSFT.csv')\n",
    "stocks_data.describe()"
   ]
  },
  {
   "cell_type": "markdown",
   "id": "1f22633f",
   "metadata": {},
   "source": [
    "### Processing Data "
   ]
  },
  {
   "cell_type": "markdown",
   "id": "e6d5bcee",
   "metadata": {},
   "source": [
    "selecting dates and close Price"
   ]
  },
  {
   "cell_type": "code",
   "execution_count": 43,
   "id": "fee1a97d",
   "metadata": {},
   "outputs": [],
   "source": [
    "stocks_data=stocks_data[['date','close']]"
   ]
  },
  {
   "cell_type": "markdown",
   "id": "cdd7af8f",
   "metadata": {},
   "source": [
    "method to covert string(date) to datatime(date)"
   ]
  },
  {
   "cell_type": "code",
   "execution_count": 44,
   "id": "0dbfce58",
   "metadata": {},
   "outputs": [],
   "source": [
    "def str_to_datetime(s):\n",
    "  split = s.split('-')\n",
    "  split[2] = split[2].split(' ')[0]\n",
    "  year, month, day = int(split[0]), int(split[1]), int(split[2])\n",
    "  return datetime.datetime(year=year, month=month, day=day)"
   ]
  },
  {
   "cell_type": "code",
   "execution_count": 45,
   "id": "5b8c5e3d",
   "metadata": {},
   "outputs": [],
   "source": [
    "stocks_data['date'] = stocks_data['date'].apply(str_to_datetime)"
   ]
  },
  {
   "cell_type": "markdown",
   "id": "5273b7d1",
   "metadata": {},
   "source": [
    "setting date as INDEX"
   ]
  },
  {
   "cell_type": "code",
   "execution_count": 46,
   "id": "5eed0965",
   "metadata": {},
   "outputs": [
    {
     "data": {
      "text/plain": [
       "date\n",
       "2017-07-03   2017-07-03\n",
       "2017-07-05   2017-07-05\n",
       "2017-07-06   2017-07-06\n",
       "2017-07-07   2017-07-07\n",
       "2017-07-10   2017-07-10\n",
       "                ...    \n",
       "2022-06-24   2022-06-24\n",
       "2022-06-27   2022-06-27\n",
       "2022-06-28   2022-06-28\n",
       "2022-06-29   2022-06-29\n",
       "2022-06-30   2022-06-30\n",
       "Name: date, Length: 1258, dtype: datetime64[ns]"
      ]
     },
     "execution_count": 46,
     "metadata": {},
     "output_type": "execute_result"
    }
   ],
   "source": [
    "stocks_data.index=stocks_data['date']\n",
    "stocks_data.pop('date')"
   ]
  },
  {
   "cell_type": "code",
   "execution_count": 47,
   "id": "9996b82f",
   "metadata": {},
   "outputs": [
    {
     "data": {
      "text/html": [
       "<div>\n",
       "<style scoped>\n",
       "    .dataframe tbody tr th:only-of-type {\n",
       "        vertical-align: middle;\n",
       "    }\n",
       "\n",
       "    .dataframe tbody tr th {\n",
       "        vertical-align: top;\n",
       "    }\n",
       "\n",
       "    .dataframe thead th {\n",
       "        text-align: right;\n",
       "    }\n",
       "</style>\n",
       "<table border=\"1\" class=\"dataframe\">\n",
       "  <thead>\n",
       "    <tr style=\"text-align: right;\">\n",
       "      <th></th>\n",
       "      <th>close</th>\n",
       "    </tr>\n",
       "    <tr>\n",
       "      <th>date</th>\n",
       "      <th></th>\n",
       "    </tr>\n",
       "  </thead>\n",
       "  <tbody>\n",
       "    <tr>\n",
       "      <th>2017-07-03</th>\n",
       "      <td>68.17</td>\n",
       "    </tr>\n",
       "    <tr>\n",
       "      <th>2017-07-05</th>\n",
       "      <td>69.08</td>\n",
       "    </tr>\n",
       "    <tr>\n",
       "      <th>2017-07-06</th>\n",
       "      <td>68.57</td>\n",
       "    </tr>\n",
       "    <tr>\n",
       "      <th>2017-07-07</th>\n",
       "      <td>69.46</td>\n",
       "    </tr>\n",
       "    <tr>\n",
       "      <th>2017-07-10</th>\n",
       "      <td>69.98</td>\n",
       "    </tr>\n",
       "    <tr>\n",
       "      <th>...</th>\n",
       "      <td>...</td>\n",
       "    </tr>\n",
       "    <tr>\n",
       "      <th>2022-06-24</th>\n",
       "      <td>267.70</td>\n",
       "    </tr>\n",
       "    <tr>\n",
       "      <th>2022-06-27</th>\n",
       "      <td>264.89</td>\n",
       "    </tr>\n",
       "    <tr>\n",
       "      <th>2022-06-28</th>\n",
       "      <td>256.48</td>\n",
       "    </tr>\n",
       "    <tr>\n",
       "      <th>2022-06-29</th>\n",
       "      <td>260.26</td>\n",
       "    </tr>\n",
       "    <tr>\n",
       "      <th>2022-06-30</th>\n",
       "      <td>256.83</td>\n",
       "    </tr>\n",
       "  </tbody>\n",
       "</table>\n",
       "<p>1258 rows × 1 columns</p>\n",
       "</div>"
      ],
      "text/plain": [
       "             close\n",
       "date              \n",
       "2017-07-03   68.17\n",
       "2017-07-05   69.08\n",
       "2017-07-06   68.57\n",
       "2017-07-07   69.46\n",
       "2017-07-10   69.98\n",
       "...            ...\n",
       "2022-06-24  267.70\n",
       "2022-06-27  264.89\n",
       "2022-06-28  256.48\n",
       "2022-06-29  260.26\n",
       "2022-06-30  256.83\n",
       "\n",
       "[1258 rows x 1 columns]"
      ]
     },
     "execution_count": 47,
     "metadata": {},
     "output_type": "execute_result"
    }
   ],
   "source": [
    "stocks_data"
   ]
  },
  {
   "cell_type": "markdown",
   "id": "daa31ad8",
   "metadata": {},
   "source": [
    "#### Visualizing data of stocsk"
   ]
  },
  {
   "cell_type": "code",
   "execution_count": 48,
   "id": "3bc4616e",
   "metadata": {},
   "outputs": [
    {
     "data": {
      "text/plain": [
       "Text(0, 0.5, 'STOCK PRICE')"
      ]
     },
     "execution_count": 48,
     "metadata": {},
     "output_type": "execute_result"
    },
    {
     "data": {
      "image/png": "[encoded data removed]",
      "text/plain": [
       "<Figure size 432x288 with 1 Axes>"
      ]
     },
     "metadata": {
      "needs_background": "light"
     },
     "output_type": "display_data"
    }
   ],
   "source": [
    "plt.plot(stocks_data)\n",
    "plt.legend(['google stock'])\n",
    "plt.xlabel(\"TIME\")\n",
    "plt.ylabel(\"STOCK PRICE\")"
   ]
  },
  {
   "cell_type": "markdown",
   "id": "0ad6a023",
   "metadata": {},
   "source": [
    "creating dataset 'df1' and setting its value range from 0-1\n",
    "reshaping it then into a 2D array"
   ]
  },
  {
   "cell_type": "code",
   "execution_count": 49,
   "id": "9a5174a8",
   "metadata": {},
   "outputs": [],
   "source": [
    "df1=stocks_data\n",
    "scaler=MinMaxScaler(feature_range=(0,1))\n",
    "df1=scaler.fit_transform(np.array(df1).reshape(-1,1))"
   ]
  },
  {
   "cell_type": "code",
   "execution_count": 50,
   "id": "d085fb66",
   "metadata": {},
   "outputs": [
    {
     "name": "stdout",
     "output_type": "stream",
     "text": [
      "[[0.        ]\n",
      " [0.00330981]\n",
      " [0.00145486]\n",
      " ...\n",
      " [0.68491307]\n",
      " [0.69866153]\n",
      " [0.68618608]]\n"
     ]
    }
   ],
   "source": [
    "print(df1)"
   ]
  },
  {
   "cell_type": "markdown",
   "id": "dff92b3b",
   "metadata": {},
   "source": [
    "Compressed plot of stocks [range:0-1] "
   ]
  },
  {
   "cell_type": "code",
   "execution_count": 51,
   "id": "094ad7a1",
   "metadata": {},
   "outputs": [
    {
     "data": {
      "text/plain": [
       "[<matplotlib.lines.Line2D at 0x60789d8bb0>]"
      ]
     },
     "execution_count": 51,
     "metadata": {},
     "output_type": "execute_result"
    },
    {
     "data": {
      "image/png": "[encoded data removed]",
      "text/plain": [
       "<Figure size 432x288 with 1 Axes>"
      ]
     },
     "metadata": {
      "needs_background": "light"
     },
     "output_type": "display_data"
    }
   ],
   "source": [
    "plt.plot(df1)"
   ]
  },
  {
   "cell_type": "markdown",
   "id": "90a03802",
   "metadata": {},
   "source": [
    "### Creating testing data and train data "
   ]
  },
  {
   "cell_type": "code",
   "execution_count": 52,
   "id": "73d9b1e1",
   "metadata": {},
   "outputs": [],
   "source": [
    "training_size=int(len(df1)*0.75)\n",
    "test_size=len(df1)-training_size\n",
    "train_data,test_data=df1[0:training_size,:],df1[training_size:len(df1),:1]\n",
    "training_size,test_size\n",
    "train_dates=stocks_data.index[0:training_size]\n",
    "test_dates=stocks_data.index[training_size:]"
   ]
  },
  {
   "cell_type": "code",
   "execution_count": 53,
   "id": "5c8d27e8",
   "metadata": {},
   "outputs": [
    {
     "data": {
      "text/plain": [
       "array([[0.63352004],\n",
       "       [0.65796174],\n",
       "       [0.65356078],\n",
       "       [0.66098058],\n",
       "       [0.67316505],\n",
       "       [0.68262166],\n",
       "       [0.68283989],\n",
       "       [0.69222376],\n",
       "       [0.681676  ],\n",
       "       [0.69589729],\n",
       "       [0.70040736],\n",
       "       [0.69313305],\n",
       "       [0.69138721],\n",
       "       [0.69982542],\n",
       "       [0.68742271],\n",
       "       [0.7018986 ],\n",
       "       [0.70335346],\n",
       "       [0.70488106],\n",
       "       [0.67792973],\n",
       "       [0.67047356],\n",
       "       [0.6692733 ],\n",
       "       [0.66810941],\n",
       "       [0.65330618],\n",
       "       [0.64850513],\n",
       "       [0.66036226],\n",
       "       [0.6702917 ],\n",
       "       [0.65108751],\n",
       "       [0.64763221],\n",
       "       [0.62133556],\n",
       "       [0.63599331],\n",
       "       [0.65461555],\n",
       "       [0.6438132 ],\n",
       "       [0.63617517],\n",
       "       [0.63632065],\n",
       "       [0.6485415 ],\n",
       "       [0.64377682],\n",
       "       [0.66418128],\n",
       "       [0.6676002 ],\n",
       "       [0.66676366],\n",
       "       [0.65883465],\n",
       "       [0.6601804 ],\n",
       "       [0.65188768],\n",
       "       [0.65152397],\n",
       "       [0.64574089],\n",
       "       [0.66421765],\n",
       "       [0.67520186],\n",
       "       [0.67069179],\n",
       "       [0.67440169],\n",
       "       [0.68767731],\n",
       "       [0.69004146],\n",
       "       [0.69731578],\n",
       "       [0.69175093],\n",
       "       [0.68818651],\n",
       "       [0.70098931],\n",
       "       [0.69564269],\n",
       "       [0.70728159],\n",
       "       [0.7177566 ],\n",
       "       [0.71690187],\n",
       "       [0.72204845],\n",
       "       [0.71597439],\n",
       "       [0.72943188],\n",
       "       [0.73917946],\n",
       "       [0.73736088],\n",
       "       [0.73990689],\n",
       "       [0.76191169],\n",
       "       [0.76194806],\n",
       "       [0.77020441],\n",
       "       [0.76107514],\n",
       "       [0.76296647],\n",
       "       [0.76071143],\n",
       "       [0.77402342],\n",
       "       [0.77958827],\n",
       "       [0.77420528],\n",
       "       [0.77318688],\n",
       "       [0.75958391],\n",
       "       [0.76798574],\n",
       "       [0.77555103],\n",
       "       [0.79279115],\n",
       "       [0.80563032],\n",
       "       [0.80337528],\n",
       "       [0.79424602],\n",
       "       [0.79308213],\n",
       "       [0.79410053],\n",
       "       [0.78831745],\n",
       "       [0.78799011],\n",
       "       [0.79635557],\n",
       "       [0.7941369 ],\n",
       "       [0.80508475],\n",
       "       [0.80486652],\n",
       "       [0.80075653],\n",
       "       [0.7938823 ],\n",
       "       [0.79573725],\n",
       "       [0.80613952],\n",
       "       [0.81719648],\n",
       "       [0.8235615 ],\n",
       "       [0.81803303],\n",
       "       [0.80948571],\n",
       "       [0.83145414],\n",
       "       [0.85906016],\n",
       "       [0.86011493],\n",
       "       [0.85273151],\n",
       "       [0.85051284],\n",
       "       [0.83989234],\n",
       "       [0.84218375],\n",
       "       [0.85625955],\n",
       "       [0.85004001],\n",
       "       [0.84985815],\n",
       "       [0.84738488],\n",
       "       [0.84734851],\n",
       "       [0.84385684],\n",
       "       [0.84396596],\n",
       "       [0.83319997],\n",
       "       [0.82759875],\n",
       "       [0.83225431],\n",
       "       [0.84243835],\n",
       "       [0.86073325],\n",
       "       [0.86218811],\n",
       "       [0.84272932],\n",
       "       [0.82247036],\n",
       "       [0.82428894],\n",
       "       [0.83803739],\n",
       "       [0.8416018 ],\n",
       "       [0.840838  ],\n",
       "       [0.82199753],\n",
       "       [0.7832618 ],\n",
       "       [0.78500764],\n",
       "       [0.77744235],\n",
       "       [0.80355714],\n",
       "       [0.78177057],\n",
       "       [0.80232051],\n",
       "       [0.81814214],\n",
       "       [0.82447079],\n",
       "       [0.82447079],\n",
       "       [0.82221576],\n",
       "       [0.81730559],\n",
       "       [0.82978104],\n",
       "       [0.85320434],\n",
       "       [0.85851459],\n",
       "       [0.86971703],\n",
       "       [0.87313596],\n",
       "       [0.87015349],\n",
       "       [0.88233796],\n",
       "       [0.87651851],\n",
       "       [0.87277224],\n",
       "       [0.87997381],\n",
       "       [0.92747509],\n",
       "       [0.93176693],\n",
       "       [0.95820906],\n",
       "       [0.95002546],\n",
       "       [0.96370117],\n",
       "       [0.9668655 ],\n",
       "       [0.97574016],\n",
       "       [0.97435804],\n",
       "       [0.9777406 ],\n",
       "       [0.97395795],\n",
       "       [0.95522659],\n",
       "       [0.96115516],\n",
       "       [0.97675857],\n",
       "       [0.97439441],\n",
       "       [0.98690623],\n",
       "       [0.98548774],\n",
       "       [0.99330763],\n",
       "       [1.        ],\n",
       "       [0.98807012],\n",
       "       [0.98025024],\n",
       "       [0.98108678],\n",
       "       [0.95115298],\n",
       "       [0.97643122],\n",
       "       [0.95446279],\n",
       "       [0.95260784],\n",
       "       [0.95046192],\n",
       "       [0.92689314],\n",
       "       [0.9384593 ],\n",
       "       [0.97021168],\n",
       "       [0.97039354],\n",
       "       [0.96359206],\n",
       "       [0.99792682],\n",
       "       [0.98650615],\n",
       "       [0.94627919],\n",
       "       [0.96922965],\n",
       "       [0.93376737],\n",
       "       [0.92976649],\n",
       "       [0.91561795],\n",
       "       [0.94246017],\n",
       "       [0.96395577],\n",
       "       [0.96937514],\n",
       "       [0.99759948],\n",
       "       [0.99323489],\n",
       "       [0.9957809 ],\n",
       "       [0.98621517],\n",
       "       [0.9753037 ],\n",
       "       [0.96959337],\n",
       "       [0.94871608],\n",
       "       [0.90277879],\n",
       "       [0.8936859 ],\n",
       "       [0.89426784],\n",
       "       [0.89510439],\n",
       "       [0.89768677],\n",
       "       [0.90965302],\n",
       "       [0.86066051],\n",
       "       [0.88030116],\n",
       "       [0.85284062],\n",
       "       [0.85531389],\n",
       "       [0.8490216 ],\n",
       "       [0.82876264],\n",
       "       [0.82999927],\n",
       "       [0.80133847],\n",
       "       [0.83123591],\n",
       "       [0.84262021],\n",
       "       [0.87324507],\n",
       "       [0.88313814],\n",
       "       [0.87506365],\n",
       "       [0.89215829],\n",
       "       [0.8477486 ],\n",
       "       [0.86480687],\n",
       "       [0.84665745],\n",
       "       [0.85978759],\n",
       "       [0.88397469],\n",
       "       [0.85185859],\n",
       "       [0.82516185],\n",
       "       [0.82501637],\n",
       "       [0.84491162],\n",
       "       [0.84138357],\n",
       "       [0.80948571],\n",
       "       [0.79930167],\n",
       "       [0.79853786],\n",
       "       [0.77144104],\n",
       "       [0.82352513],\n",
       "       [0.8334182 ],\n",
       "       [0.83880119],\n",
       "       [0.82483451],\n",
       "       [0.84389321],\n",
       "       [0.82836255],\n",
       "       [0.80632138],\n",
       "       [0.76649451],\n",
       "       [0.75536481],\n",
       "       [0.80137485],\n",
       "       [0.79079072],\n",
       "       [0.77071361],\n",
       "       [0.75751073],\n",
       "       [0.79646468],\n",
       "       [0.8227977 ],\n",
       "       [0.82581654],\n",
       "       [0.84476613],\n",
       "       [0.84014694],\n",
       "       [0.85796901],\n",
       "       [0.8413472 ],\n",
       "       [0.8581145 ],\n",
       "       [0.85658689],\n",
       "       [0.88211974],\n",
       "       [0.89925075],\n",
       "       [0.89361315],\n",
       "       [0.87342693],\n",
       "       [0.87746417],\n",
       "       [0.8976504 ],\n",
       "       [0.88277442],\n",
       "       [0.84138357],\n",
       "       [0.84818506],\n",
       "       [0.83218157],\n",
       "       [0.78959046],\n",
       "       [0.77795155],\n",
       "       [0.79817415],\n",
       "       [0.76984069],\n",
       "       [0.77235033],\n",
       "       [0.78973594],\n",
       "       [0.79359133],\n",
       "       [0.77340511],\n",
       "       [0.74874518],\n",
       "       [0.77307776],\n",
       "       [0.73488761],\n",
       "       [0.78217066],\n",
       "       [0.80548483],\n",
       "       [0.76143886],\n",
       "       [0.7867171 ],\n",
       "       [0.77693315],\n",
       "       [0.80675784],\n",
       "       [0.76082054],\n",
       "       [0.75129119],\n",
       "       [0.71437405],\n",
       "       [0.73226886],\n",
       "       [0.6997163 ],\n",
       "       [0.68080308],\n",
       "       [0.70178948],\n",
       "       [0.7031716 ],\n",
       "       [0.72252128],\n",
       "       [0.67618389],\n",
       "       [0.67276497],\n",
       "       [0.67065542],\n",
       "       [0.70008002],\n",
       "       [0.69633375],\n",
       "       [0.7068815 ],\n",
       "       [0.71917509],\n",
       "       [0.74587183],\n",
       "       [0.74088892],\n",
       "       [0.74288936],\n",
       "       [0.75074562],\n",
       "       [0.73416018],\n",
       "       [0.72954099],\n",
       "       [0.74318033],\n",
       "       [0.73557867],\n",
       "       [0.71513785],\n",
       "       [0.67221939],\n",
       "       [0.6331927 ],\n",
       "       [0.64130356],\n",
       "       [0.66774569],\n",
       "       [0.64304939],\n",
       "       [0.65279697],\n",
       "       [0.67494726],\n",
       "       [0.6727286 ],\n",
       "       [0.69356951],\n",
       "       [0.72572198],\n",
       "       [0.71550156],\n",
       "       [0.68491307],\n",
       "       [0.69866153],\n",
       "       [0.68618608]])"
      ]
     },
     "execution_count": 53,
     "metadata": {},
     "output_type": "execute_result"
    }
   ],
   "source": [
    "test_data"
   ]
  },
  {
   "cell_type": "markdown",
   "id": "591655b2",
   "metadata": {},
   "source": [
    "### visualizing train and test data"
   ]
  },
  {
   "cell_type": "code",
   "execution_count": 54,
   "id": "c51e5c84",
   "metadata": {},
   "outputs": [
    {
     "data": {
      "text/plain": [
       "Text(0, 0.5, 'STOCK PRICE')"
      ]
     },
     "execution_count": 54,
     "metadata": {},
     "output_type": "execute_result"
    },
    {
     "data": {
      "image/png": "[encoded data removed]",
      "text/plain": [
       "<Figure size 432x288 with 1 Axes>"
      ]
     },
     "metadata": {
      "needs_background": "light"
     },
     "output_type": "display_data"
    }
   ],
   "source": [
    "plt.plot(train_dates,train_data)\n",
    "plt.plot(test_dates,test_data)\n",
    "plt.legend(['train','test'])\n",
    "plt.xlabel(\"TIME\")\n",
    "plt.ylabel(\"STOCK PRICE\")"
   ]
  },
  {
   "cell_type": "markdown",
   "id": "8044248a",
   "metadata": {},
   "source": [
    "#### Method to convert an array of values into a dataset matrix"
   ]
  },
  {
   "cell_type": "code",
   "execution_count": 55,
   "id": "62c4bb45",
   "metadata": {},
   "outputs": [],
   "source": [
    "def create_dataset(dataset, time_step=1):\n",
    "\tdataX, dataY = [], []\n",
    "\tfor i in range(len(dataset)-time_step-1):\n",
    "\t\ta = dataset[i:(i+time_step), 0]   ###i=0, 0,1,2,3-----99   100 \n",
    "\t\tdataX.append(a)\n",
    "\t\tdataY.append(dataset[i + time_step, 0])\n",
    "\treturn numpy.array(dataX), numpy.array(dataY)"
   ]
  },
  {
   "cell_type": "markdown",
   "id": "4af5ad1f",
   "metadata": {},
   "source": [
    "creating test and train dataset as well as target values of test and train"
   ]
  },
  {
   "cell_type": "code",
   "execution_count": 56,
   "id": "c990ad21",
   "metadata": {},
   "outputs": [],
   "source": [
    "time_step = 10\n",
    "x_train_data, target_train = create_dataset(train_data, time_step)\n",
    "x_test_data, target_test = create_dataset(test_data, time_step)"
   ]
  },
  {
   "cell_type": "code",
   "execution_count": 57,
   "id": "7d5de595",
   "metadata": {},
   "outputs": [
    {
     "name": "stdout",
     "output_type": "stream",
     "text": [
      "(932, 10)\n",
      "(932,)\n"
     ]
    },
    {
     "data": {
      "text/plain": [
       "(None, None)"
      ]
     },
     "execution_count": 57,
     "metadata": {},
     "output_type": "execute_result"
    }
   ],
   "source": [
    "print(x_train_data.shape), print(target_train.shape)"
   ]
  },
  {
   "cell_type": "code",
   "execution_count": 58,
   "id": "b52c9ab5",
   "metadata": {},
   "outputs": [
    {
     "data": {
      "text/plain": [
       "array([[0.        , 0.00330981, 0.00145486, 0.00469193, 0.00658325,\n",
       "        0.00661963, 0.01083873, 0.01309377, 0.01676729, 0.01884047],\n",
       "       [0.00330981, 0.00145486, 0.00469193, 0.00658325, 0.00661963,\n",
       "        0.01083873, 0.01309377, 0.01676729, 0.01884047, 0.01865862]])"
      ]
     },
     "execution_count": 58,
     "metadata": {},
     "output_type": "execute_result"
    }
   ],
   "source": [
    "x_train_data[:2]"
   ]
  },
  {
   "cell_type": "code",
   "execution_count": 59,
   "id": "31e15102",
   "metadata": {},
   "outputs": [
    {
     "data": {
      "text/plain": [
       "array([0.01865862, 0.02069542, 0.0220048 , 0.02044082, 0.01974976,\n",
       "       0.02189569, 0.02138648, 0.01814941, 0.01771296, 0.01647632])"
      ]
     },
     "execution_count": 59,
     "metadata": {},
     "output_type": "execute_result"
    }
   ],
   "source": [
    "target_train[0:10]"
   ]
  },
  {
   "cell_type": "markdown",
   "id": "9c88a977",
   "metadata": {},
   "source": [
    "reshaphing datasets to make it for our LSTM"
   ]
  },
  {
   "cell_type": "code",
   "execution_count": 60,
   "id": "40c86c3a",
   "metadata": {},
   "outputs": [],
   "source": [
    "x_train_data =x_train_data.reshape(x_train_data.shape[0],x_train_data.shape[1] , 1)\n",
    "x_test_data = x_test_data.reshape(x_test_data.shape[0],x_test_data.shape[1] , 1)"
   ]
  },
  {
   "cell_type": "code",
   "execution_count": 61,
   "id": "35616548",
   "metadata": {},
   "outputs": [
    {
     "data": {
      "text/plain": [
       "array([[[0.        ],\n",
       "        [0.00330981],\n",
       "        [0.00145486],\n",
       "        [0.00469193],\n",
       "        [0.00658325],\n",
       "        [0.00661963],\n",
       "        [0.01083873],\n",
       "        [0.01309377],\n",
       "        [0.01676729],\n",
       "        [0.01884047]]])"
      ]
     },
     "execution_count": 61,
     "metadata": {},
     "output_type": "execute_result"
    }
   ],
   "source": [
    "x_train_data[:1]"
   ]
  },
  {
   "cell_type": "markdown",
   "id": "e3fde377",
   "metadata": {},
   "source": [
    "## Creating Our LSTM MODEL"
   ]
  },
  {
   "cell_type": "code",
   "execution_count": 62,
   "id": "a8ddf211",
   "metadata": {},
   "outputs": [],
   "source": [
    "model2 = Sequential([Input((10, 1)),\n",
    "                    Bidirectional(LSTM(64,activation='relu')),\n",
    "                    Dense(32, activation='relu'),\n",
    "                    Dense(32, activation='relu'),\n",
    "                    Dense(1)])\n",
    "model2.compile(loss='mse', \n",
    "              optimizer='adam',\n",
    "              metrics=['mean_absolute_error'])"
   ]
  },
  {
   "cell_type": "code",
   "execution_count": 63,
   "id": "1f5c1083",
   "metadata": {},
   "outputs": [
    {
     "name": "stdout",
     "output_type": "stream",
     "text": [
      "Model: \"sequential_2\"\n",
      "_________________________________________________________________\n",
      "Layer (type)                 Output Shape              Param #   \n",
      "=================================================================\n",
      "bidirectional_2 (Bidirection (None, 128)               33792     \n",
      "_________________________________________________________________\n",
      "dense_6 (Dense)              (None, 32)                4128      \n",
      "_________________________________________________________________\n",
      "dense_7 (Dense)              (None, 32)                1056      \n",
      "_________________________________________________________________\n",
      "dense_8 (Dense)              (None, 1)                 33        \n",
      "=================================================================\n",
      "Total params: 39,009\n",
      "Trainable params: 39,009\n",
      "Non-trainable params: 0\n",
      "_________________________________________________________________\n"
     ]
    }
   ],
   "source": [
    "model2.summary()"
   ]
  },
  {
   "cell_type": "markdown",
   "id": "3e18f7c8",
   "metadata": {},
   "source": [
    "#### Fitting data into our LSTM"
   ]
  },
  {
   "cell_type": "code",
   "execution_count": 64,
   "id": "1ded7a38",
   "metadata": {},
   "outputs": [
    {
     "name": "stdout",
     "output_type": "stream",
     "text": [
      "Epoch 1/30\n",
      "30/30 [==============================] - 10s 77ms/step - loss: 0.0326 - mean_absolute_error: 0.1329 - val_loss: 0.0219 - val_mean_absolute_error: 0.1429\n",
      "Epoch 2/30\n",
      "30/30 [==============================] - 1s 33ms/step - loss: 0.0027 - mean_absolute_error: 0.0398 - val_loss: 0.0032 - val_mean_absolute_error: 0.0429\n",
      "Epoch 3/30\n",
      "30/30 [==============================] - 2s 61ms/step - loss: 3.6730e-04 - mean_absolute_error: 0.0138 - val_loss: 0.0025 - val_mean_absolute_error: 0.0375\n",
      "Epoch 4/30\n",
      "30/30 [==============================] - 1s 29ms/step - loss: 2.6561e-04 - mean_absolute_error: 0.0110 - val_loss: 0.0026 - val_mean_absolute_error: 0.0389\n",
      "Epoch 5/30\n",
      "30/30 [==============================] - 1s 48ms/step - loss: 2.5717e-04 - mean_absolute_error: 0.0107 - val_loss: 0.0022 - val_mean_absolute_error: 0.0352\n",
      "Epoch 6/30\n",
      "30/30 [==============================] - 1s 47ms/step - loss: 2.8699e-04 - mean_absolute_error: 0.0119 - val_loss: 0.0015 - val_mean_absolute_error: 0.0296\n",
      "Epoch 7/30\n",
      "30/30 [==============================] - 1s 26ms/step - loss: 2.7954e-04 - mean_absolute_error: 0.0116 - val_loss: 0.0021 - val_mean_absolute_error: 0.0344\n",
      "Epoch 8/30\n",
      "30/30 [==============================] - 1s 30ms/step - loss: 2.6928e-04 - mean_absolute_error: 0.0110 - val_loss: 0.0015 - val_mean_absolute_error: 0.0295\n",
      "Epoch 9/30\n",
      "30/30 [==============================] - 1s 33ms/step - loss: 2.6369e-04 - mean_absolute_error: 0.0109 - val_loss: 0.0019 - val_mean_absolute_error: 0.0326\n",
      "Epoch 10/30\n",
      "30/30 [==============================] - 1s 20ms/step - loss: 2.5224e-04 - mean_absolute_error: 0.0107 - val_loss: 0.0012 - val_mean_absolute_error: 0.0271\n",
      "Epoch 11/30\n",
      "30/30 [==============================] - 1s 19ms/step - loss: 2.6334e-04 - mean_absolute_error: 0.0113 - val_loss: 0.0013 - val_mean_absolute_error: 0.0280\n",
      "Epoch 12/30\n",
      "30/30 [==============================] - 1s 20ms/step - loss: 2.4156e-04 - mean_absolute_error: 0.0104 - val_loss: 0.0012 - val_mean_absolute_error: 0.0269\n",
      "Epoch 13/30\n",
      "30/30 [==============================] - 1s 25ms/step - loss: 2.4890e-04 - mean_absolute_error: 0.0107 - val_loss: 0.0018 - val_mean_absolute_error: 0.0321\n",
      "Epoch 14/30\n",
      "30/30 [==============================] - 1s 24ms/step - loss: 2.3506e-04 - mean_absolute_error: 0.0102 - val_loss: 0.0019 - val_mean_absolute_error: 0.0331\n",
      "Epoch 15/30\n",
      "30/30 [==============================] - 1s 25ms/step - loss: 2.5434e-04 - mean_absolute_error: 0.0111 - val_loss: 0.0014 - val_mean_absolute_error: 0.0284\n",
      "Epoch 16/30\n",
      "30/30 [==============================] - 1s 20ms/step - loss: 2.3802e-04 - mean_absolute_error: 0.0104 - val_loss: 0.0015 - val_mean_absolute_error: 0.0291\n",
      "Epoch 17/30\n",
      "30/30 [==============================] - 1s 19ms/step - loss: 2.3014e-04 - mean_absolute_error: 0.0102 - val_loss: 0.0017 - val_mean_absolute_error: 0.0314\n",
      "Epoch 18/30\n",
      "30/30 [==============================] - 1s 19ms/step - loss: 2.3592e-04 - mean_absolute_error: 0.0103 - val_loss: 0.0012 - val_mean_absolute_error: 0.0266\n",
      "Epoch 19/30\n",
      "30/30 [==============================] - 1s 22ms/step - loss: 2.4575e-04 - mean_absolute_error: 0.0107 - val_loss: 0.0017 - val_mean_absolute_error: 0.0308\n",
      "Epoch 20/30\n",
      "30/30 [==============================] - 1s 19ms/step - loss: 2.5764e-04 - mean_absolute_error: 0.0112 - val_loss: 0.0010 - val_mean_absolute_error: 0.0250\n",
      "Epoch 21/30\n",
      "30/30 [==============================] - 1s 19ms/step - loss: 2.5211e-04 - mean_absolute_error: 0.0111 - val_loss: 0.0014 - val_mean_absolute_error: 0.0284\n",
      "Epoch 22/30\n",
      "30/30 [==============================] - 1s 19ms/step - loss: 2.2062e-04 - mean_absolute_error: 0.0099 - val_loss: 0.0012 - val_mean_absolute_error: 0.0263\n",
      "Epoch 23/30\n",
      "30/30 [==============================] - 1s 18ms/step - loss: 2.2918e-04 - mean_absolute_error: 0.0104 - val_loss: 0.0020 - val_mean_absolute_error: 0.0348\n",
      "Epoch 24/30\n",
      "30/30 [==============================] - 1s 18ms/step - loss: 2.1901e-04 - mean_absolute_error: 0.0099 - val_loss: 8.9508e-04 - val_mean_absolute_error: 0.0245\n",
      "Epoch 25/30\n",
      "30/30 [==============================] - 1s 18ms/step - loss: 2.6626e-04 - mean_absolute_error: 0.0114 - val_loss: 9.7864e-04 - val_mean_absolute_error: 0.0242\n",
      "Epoch 26/30\n",
      "30/30 [==============================] - 1s 18ms/step - loss: 2.4541e-04 - mean_absolute_error: 0.0110 - val_loss: 0.0019 - val_mean_absolute_error: 0.0338\n",
      "Epoch 27/30\n",
      "30/30 [==============================] - 1s 18ms/step - loss: 2.4094e-04 - mean_absolute_error: 0.0107 - val_loss: 9.2432e-04 - val_mean_absolute_error: 0.0256\n",
      "Epoch 28/30\n",
      "30/30 [==============================] - 1s 18ms/step - loss: 2.1461e-04 - mean_absolute_error: 0.0098 - val_loss: 0.0010 - val_mean_absolute_error: 0.0243\n",
      "Epoch 29/30\n",
      "30/30 [==============================] - 1s 19ms/step - loss: 2.0783e-04 - mean_absolute_error: 0.0098 - val_loss: 0.0014 - val_mean_absolute_error: 0.0284\n",
      "Epoch 30/30\n",
      "30/30 [==============================] - 1s 20ms/step - loss: 1.9857e-04 - mean_absolute_error: 0.0094 - val_loss: 9.0897e-04 - val_mean_absolute_error: 0.0229\n"
     ]
    }
   ],
   "source": [
    "history=model2.fit(x_train_data, target_train,validation_data=(x_test_data,target_test), epochs=30,batch_size=32)"
   ]
  },
  {
   "cell_type": "code",
   "execution_count": 65,
   "id": "46e277e9",
   "metadata": {},
   "outputs": [
    {
     "name": "stdout",
     "output_type": "stream",
     "text": [
      "dict_keys(['loss', 'mean_absolute_error', 'val_loss', 'val_mean_absolute_error'])\n"
     ]
    }
   ],
   "source": [
    "print(history.history.keys())"
   ]
  },
  {
   "cell_type": "code",
   "execution_count": 66,
   "id": "9c02a19b",
   "metadata": {},
   "outputs": [
    {
     "data": {
      "image/png": "[encoded data removed]",
      "text/plain": [
       "<Figure size 432x288 with 1 Axes>"
      ]
     },
     "metadata": {
      "needs_background": "light"
     },
     "output_type": "display_data"
    }
   ],
   "source": [
    "plt.plot(history.history['mean_absolute_error'])\n",
    "plt.plot(history.history['val_mean_absolute_error'])\n",
    "plt.title('MSE')\n",
    "plt.ylabel('MSE')\n",
    "plt.xlabel('epoch')\n",
    "plt.legend(['train', 'test'], loc='upper left')\n",
    "plt.show()"
   ]
  },
  {
   "cell_type": "code",
   "execution_count": 67,
   "id": "8f474c4d",
   "metadata": {},
   "outputs": [
    {
     "data": {
      "image/png": "[encoded data removed]",
      "text/plain": [
       "<Figure size 432x288 with 1 Axes>"
      ]
     },
     "metadata": {
      "needs_background": "light"
     },
     "output_type": "display_data"
    }
   ],
   "source": [
    "# summarize history for loss\n",
    "plt.plot(history.history['loss'])\n",
    "plt.plot(history.history['val_loss'])\n",
    "plt.title('model loss')\n",
    "plt.ylabel('loss')\n",
    "plt.xlabel('epoch')\n",
    "plt.legend(['train', 'test'], loc='upper left')\n",
    "plt.show()"
   ]
  },
  {
   "cell_type": "markdown",
   "id": "41d8aae6",
   "metadata": {},
   "source": [
    "#### Predicting data and visualizing its working"
   ]
  },
  {
   "cell_type": "code",
   "execution_count": 68,
   "id": "3bcaeaef",
   "metadata": {},
   "outputs": [],
   "source": [
    "train_predict=model2.predict(x_train_data)\n",
    "test_predict=model2.predict(x_test_data)"
   ]
  },
  {
   "cell_type": "code",
   "execution_count": 69,
   "id": "0f6c7b1a",
   "metadata": {},
   "outputs": [
    {
     "data": {
      "text/plain": [
       "array([[0.680866  ],\n",
       "       [0.6870321 ],\n",
       "       [0.6899255 ],\n",
       "       [0.6917401 ],\n",
       "       [0.6948448 ],\n",
       "       [0.6948363 ],\n",
       "       [0.6973183 ],\n",
       "       [0.69960934],\n",
       "       [0.70190996],\n",
       "       [0.6982475 ],\n",
       "       [0.692484  ],\n",
       "       [0.6870813 ],\n",
       "       [0.68386817],\n",
       "       [0.67856646],\n",
       "       [0.6725192 ],\n",
       "       [0.6703294 ],\n",
       "       [0.67021954],\n",
       "       [0.666462  ],\n",
       "       [0.6613116 ],\n",
       "       [0.6520241 ],\n",
       "       [0.64821476],\n",
       "       [0.6489755 ],\n",
       "       [0.64835215],\n",
       "       [0.6472137 ],\n",
       "       [0.64499676],\n",
       "       [0.64525276],\n",
       "       [0.6443186 ],\n",
       "       [0.64865744],\n",
       "       [0.6526196 ],\n",
       "       [0.6575193 ],\n",
       "       [0.6584137 ],\n",
       "       [0.65826035],\n",
       "       [0.65718365],\n",
       "       [0.65715784],\n",
       "       [0.65604484],\n",
       "       [0.65866905],\n",
       "       [0.6637407 ],\n",
       "       [0.666365  ],\n",
       "       [0.6681287 ],\n",
       "       [0.67177796],\n",
       "       [0.6762178 ],\n",
       "       [0.6811459 ],\n",
       "       [0.6842904 ],\n",
       "       [0.6861862 ],\n",
       "       [0.690986  ],\n",
       "       [0.6935519 ],\n",
       "       [0.69765824],\n",
       "       [0.7033532 ],\n",
       "       [0.7082186 ],\n",
       "       [0.7120327 ],\n",
       "       [0.71378905],\n",
       "       [0.71768224],\n",
       "       [0.72360766],\n",
       "       [0.72878027],\n",
       "       [0.7323265 ],\n",
       "       [0.74046063],\n",
       "       [0.74709386],\n",
       "       [0.75338995],\n",
       "       [0.7565245 ],\n",
       "       [0.7593674 ],\n",
       "       [0.76202345],\n",
       "       [0.766857  ],\n",
       "       [0.77190286],\n",
       "       [0.775091  ],\n",
       "       [0.7770541 ],\n",
       "       [0.7746707 ],\n",
       "       [0.77460533],\n",
       "       [0.77607393],\n",
       "       [0.78214854],\n",
       "       [0.78947324],\n",
       "       [0.7947332 ],\n",
       "       [0.795841  ],\n",
       "       [0.7960403 ],\n",
       "       [0.7971862 ],\n",
       "       [0.7974031 ],\n",
       "       [0.79848325],\n",
       "       [0.8010381 ],\n",
       "       [0.8028156 ],\n",
       "       [0.80548716],\n",
       "       [0.80676067],\n",
       "       [0.8067535 ],\n",
       "       [0.8054256 ],\n",
       "       [0.8049312 ],\n",
       "       [0.80703425],\n",
       "       [0.81192553],\n",
       "       [0.8172351 ],\n",
       "       [0.81951606],\n",
       "       [0.81943166],\n",
       "       [0.82346094],\n",
       "       [0.83352387],\n",
       "       [0.84213334],\n",
       "       [0.84705734],\n",
       "       [0.85086644],\n",
       "       [0.8517202 ],\n",
       "       [0.85259306],\n",
       "       [0.85657984],\n",
       "       [0.8594653 ],\n",
       "       [0.86218095],\n",
       "       [0.86262196],\n",
       "       [0.86155105],\n",
       "       [0.85977674],\n",
       "       [0.8587221 ],\n",
       "       [0.8556477 ],\n",
       "       [0.85244256],\n",
       "       [0.85086393],\n",
       "       [0.85137826],\n",
       "       [0.8562866 ],\n",
       "       [0.86008567],\n",
       "       [0.8584065 ],\n",
       "       [0.8520252 ],\n",
       "       [0.8474854 ],\n",
       "       [0.8476845 ],\n",
       "       [0.8501306 ],\n",
       "       [0.8520373 ],\n",
       "       [0.8486636 ],\n",
       "       [0.83648545],\n",
       "       [0.8253843 ],\n",
       "       [0.815169  ],\n",
       "       [0.8145058 ],\n",
       "       [0.81067544],\n",
       "       [0.81124496],\n",
       "       [0.81346816],\n",
       "       [0.8166474 ],\n",
       "       [0.8176355 ],\n",
       "       [0.8183474 ],\n",
       "       [0.82029456],\n",
       "       [0.82479125],\n",
       "       [0.8347868 ],\n",
       "       [0.84270394],\n",
       "       [0.8526565 ],\n",
       "       [0.86036974],\n",
       "       [0.8652071 ],\n",
       "       [0.8717327 ],\n",
       "       [0.87630415],\n",
       "       [0.87961864],\n",
       "       [0.884642  ],\n",
       "       [0.89939487],\n",
       "       [0.91113895],\n",
       "       [0.9252058 ],\n",
       "       [0.93417   ],\n",
       "       [0.94470394],\n",
       "       [0.9549527 ],\n",
       "       [0.9651133 ],\n",
       "       [0.9740483 ],\n",
       "       [0.9830655 ],\n",
       "       [0.9901852 ],\n",
       "       [0.98928493],\n",
       "       [0.99003935],\n",
       "       [0.9933175 ],\n",
       "       [0.99646646],\n",
       "       [1.0006922 ],\n",
       "       [1.0033296 ],\n",
       "       [1.0067141 ],\n",
       "       [1.0109295 ],\n",
       "       [1.0113939 ],\n",
       "       [1.0100306 ],\n",
       "       [1.0107507 ],\n",
       "       [1.0047773 ],\n",
       "       [1.0044732 ],\n",
       "       [1.0005093 ],\n",
       "       [0.9958213 ],\n",
       "       [0.9911636 ],\n",
       "       [0.98194635],\n",
       "       [0.9757853 ],\n",
       "       [0.97902113],\n",
       "       [0.98256147],\n",
       "       [0.98214996],\n",
       "       [0.9908914 ],\n",
       "       [0.9939601 ],\n",
       "       [0.98790056],\n",
       "       [0.9884048 ],\n",
       "       [0.9821285 ],\n",
       "       [0.9778866 ],\n",
       "       [0.97055674],\n",
       "       [0.9697502 ],\n",
       "       [0.97451323],\n",
       "       [0.97964275],\n",
       "       [0.9864985 ],\n",
       "       [0.9903585 ],\n",
       "       [0.99633485],\n",
       "       [0.9975901 ],\n",
       "       [0.9988755 ],\n",
       "       [0.9996125 ],\n",
       "       [0.9971477 ],\n",
       "       [0.9833345 ],\n",
       "       [0.9685192 ],\n",
       "       [0.9571432 ],\n",
       "       [0.94777215],\n",
       "       [0.94082475],\n",
       "       [0.9367924 ],\n",
       "       [0.9222504 ],\n",
       "       [0.9130198 ],\n",
       "       [0.899866  ],\n",
       "       [0.8910833 ],\n",
       "       [0.8844112 ],\n",
       "       [0.8755493 ],\n",
       "       [0.86790776],\n",
       "       [0.85528445],\n",
       "       [0.85119057],\n",
       "       [0.8495185 ],\n",
       "       [0.8582724 ],\n",
       "       [0.86443895],\n",
       "       [0.8680009 ],\n",
       "       [0.8738678 ],\n",
       "       [0.86979574],\n",
       "       [0.87115645],\n",
       "       [0.86952734],\n",
       "       [0.8737416 ],\n",
       "       [0.8811148 ],\n",
       "       [0.8802771 ],\n",
       "       [0.870618  ],\n",
       "       [0.8613699 ],\n",
       "       [0.8599605 ],\n",
       "       [0.85777   ],\n",
       "       [0.85102195],\n",
       "       [0.84077245],\n",
       "       [0.8334666 ],\n",
       "       [0.82192   ],\n",
       "       [0.8216606 ],\n",
       "       [0.8258142 ],\n",
       "       [0.83196163],\n",
       "       [0.83190244],\n",
       "       [0.8341708 ],\n",
       "       [0.8329573 ],\n",
       "       [0.82907003],\n",
       "       [0.81757134],\n",
       "       [0.8059621 ],\n",
       "       [0.8090194 ],\n",
       "       [0.8083881 ],\n",
       "       [0.8033675 ],\n",
       "       [0.79345167],\n",
       "       [0.7942003 ],\n",
       "       [0.80023307],\n",
       "       [0.80606586],\n",
       "       [0.8138482 ],\n",
       "       [0.82145995],\n",
       "       [0.832505  ],\n",
       "       [0.83571875],\n",
       "       [0.8425966 ],\n",
       "       [0.85001963],\n",
       "       [0.86345965],\n",
       "       [0.8761971 ],\n",
       "       [0.88388777],\n",
       "       [0.88518125],\n",
       "       [0.88660926],\n",
       "       [0.8934407 ],\n",
       "       [0.8952933 ],\n",
       "       [0.88851565],\n",
       "       [0.8826756 ],\n",
       "       [0.87600935],\n",
       "       [0.8607148 ],\n",
       "       [0.8435083 ],\n",
       "       [0.8338719 ],\n",
       "       [0.8224571 ],\n",
       "       [0.8135575 ],\n",
       "       [0.8072702 ],\n",
       "       [0.8039392 ],\n",
       "       [0.79828566],\n",
       "       [0.7860234 ],\n",
       "       [0.7813151 ],\n",
       "       [0.7727086 ],\n",
       "       [0.7766129 ],\n",
       "       [0.7832951 ],\n",
       "       [0.7819279 ],\n",
       "       [0.7833971 ],\n",
       "       [0.782218  ],\n",
       "       [0.7879938 ],\n",
       "       [0.78342384],\n",
       "       [0.77853185],\n",
       "       [0.7650469 ],\n",
       "       [0.76132244],\n",
       "       [0.7492125 ],\n",
       "       [0.7344383 ],\n",
       "       [0.7284355 ],\n",
       "       [0.722667  ],\n",
       "       [0.7234679 ],\n",
       "       [0.71197224],\n",
       "       [0.701878  ],\n",
       "       [0.69220406],\n",
       "       [0.69426227],\n",
       "       [0.6945741 ],\n",
       "       [0.6985349 ],\n",
       "       [0.7042854 ],\n",
       "       [0.7135248 ],\n",
       "       [0.71953255],\n",
       "       [0.72260666],\n",
       "       [0.7297722 ],\n",
       "       [0.7329522 ],\n",
       "       [0.73495024],\n",
       "       [0.7383134 ],\n",
       "       [0.7409094 ],\n",
       "       [0.738293  ],\n",
       "       [0.7258773 ],\n",
       "       [0.7057019 ],\n",
       "       [0.6909405 ],\n",
       "       [0.6850266 ],\n",
       "       [0.6759111 ],\n",
       "       [0.67258155],\n",
       "       [0.6726018 ],\n",
       "       [0.670955  ],\n",
       "       [0.6737754 ],\n",
       "       [0.68205386],\n",
       "       [0.68854886],\n",
       "       [0.68873566]], dtype=float32)"
      ]
     },
     "execution_count": 69,
     "metadata": {},
     "output_type": "execute_result"
    }
   ],
   "source": [
    "test_predict"
   ]
  },
  {
   "cell_type": "markdown",
   "id": "cd02f3e4",
   "metadata": {},
   "source": [
    "perfrom inverse scalar to get there actual values"
   ]
  },
  {
   "cell_type": "code",
   "execution_count": 70,
   "id": "5fb3b09c",
   "metadata": {},
   "outputs": [],
   "source": [
    "train_predict=scaler.inverse_transform(train_predict)\n",
    "test_predict=scaler.inverse_transform(test_predict)"
   ]
  },
  {
   "cell_type": "code",
   "execution_count": 71,
   "id": "5f1e6830",
   "metadata": {},
   "outputs": [],
   "source": [
    "real_test = scaler.inverse_transform(target_test.reshape(-1,1))\n",
    "real_train = scaler.inverse_transform(target_train.reshape(-1,1))"
   ]
  },
  {
   "cell_type": "markdown",
   "id": "74132139",
   "metadata": {},
   "source": [
    "## ploting Train result"
   ]
  },
  {
   "cell_type": "code",
   "execution_count": 72,
   "id": "a8c2aa61",
   "metadata": {},
   "outputs": [
    {
     "data": {
      "text/plain": [
       "Text(0, 0.5, 'STOCKS PRICE')"
      ]
     },
     "execution_count": 72,
     "metadata": {},
     "output_type": "execute_result"
    },
    {
     "data": {
      "image/png": "[encoded data removed]",
      "text/plain": [
       "<Figure size 432x288 with 1 Axes>"
      ]
     },
     "metadata": {
      "needs_background": "light"
     },
     "output_type": "display_data"
    }
   ],
   "source": [
    "plt.plot(real_train)\n",
    "plt.plot(train_predict)\n",
    "plt.legend(['real','predicted'])\n",
    "plt.xlabel('TIME')\n",
    "plt.ylabel('STOCKS PRICE')"
   ]
  },
  {
   "cell_type": "markdown",
   "id": "f7080631",
   "metadata": {},
   "source": [
    "## ploting test result"
   ]
  },
  {
   "cell_type": "code",
   "execution_count": 73,
   "id": "bb4dee55",
   "metadata": {},
   "outputs": [
    {
     "data": {
      "text/plain": [
       "Text(0, 0.5, 'STOCKS PRICE')"
      ]
     },
     "execution_count": 73,
     "metadata": {},
     "output_type": "execute_result"
    },
    {
     "data": {
      "image/png": "[encoded data removed]",
      "text/plain": [
       "<Figure size 432x288 with 1 Axes>"
      ]
     },
     "metadata": {
      "needs_background": "light"
     },
     "output_type": "display_data"
    }
   ],
   "source": [
    "plt.plot(real_test)\n",
    "plt.plot(test_predict)\n",
    "plt.legend(['real','predicted'])\n",
    "plt.xlabel('TIME')\n",
    "plt.ylabel('STOCKS PRICE')"
   ]
  },
  {
   "cell_type": "markdown",
   "id": "b7adba5d",
   "metadata": {},
   "source": [
    "## plotting whole data together"
   ]
  },
  {
   "cell_type": "code",
   "execution_count": 74,
   "id": "5b8a07b2",
   "metadata": {},
   "outputs": [
    {
     "data": {
      "image/png": "[encoded data removed]",
      "text/plain": [
       "<Figure size 432x288 with 1 Axes>"
      ]
     },
     "metadata": {
      "needs_background": "light"
     },
     "output_type": "display_data"
    }
   ],
   "source": [
    "# shift train predictions for plotting\n",
    "look_back=10\n",
    "trainPredictPlot = numpy.empty_like(df1)\n",
    "trainPredictPlot[:, :] = np.nan\n",
    "trainPredictPlot[look_back:len(train_predict)+look_back, :] = train_predict\n",
    "# shift test predictions for plotting\n",
    "testPredictPlot = numpy.empty_like(df1)\n",
    "testPredictPlot[:, :] = numpy.nan\n",
    "testPredictPlot[len(train_predict)+(look_back*2)+1:len(df1)-1, :] = test_predict\n",
    "# plot baseline and predictions\n",
    "plt.plot(scaler.inverse_transform(df1))\n",
    "plt.plot(trainPredictPlot)\n",
    "plt.plot(testPredictPlot)\n",
    "plt.legend(['original','train','test'])\n",
    "plt.xlabel('TIME')\n",
    "plt.ylabel('STOCKS PRICE')\n",
    "plt.show()"
   ]
  },
  {
   "cell_type": "markdown",
   "id": "d25f1383",
   "metadata": {},
   "source": [
    "### errors"
   ]
  },
  {
   "cell_type": "markdown",
   "id": "621f5485",
   "metadata": {},
   "source": [
    "mean square error"
   ]
  },
  {
   "cell_type": "code",
   "execution_count": 75,
   "id": "e0e8a845",
   "metadata": {},
   "outputs": [
    {
     "data": {
      "text/plain": [
       "8.289205736035132"
      ]
     },
     "execution_count": 75,
     "metadata": {},
     "output_type": "execute_result"
    }
   ],
   "source": [
    "mse = mean_squared_error(real_test,test_predict,squared=False)\n",
    "mse"
   ]
  },
  {
   "cell_type": "markdown",
   "id": "64dd31a1",
   "metadata": {},
   "source": [
    "root mean squared error"
   ]
  },
  {
   "cell_type": "code",
   "execution_count": 76,
   "id": "0fc0425b",
   "metadata": {},
   "outputs": [
    {
     "data": {
      "text/plain": [
       "2.8790980768350236"
      ]
     },
     "execution_count": 76,
     "metadata": {},
     "output_type": "execute_result"
    }
   ],
   "source": [
    "rmse=math.sqrt(mse)\n",
    "rmse"
   ]
  },
  {
   "cell_type": "markdown",
   "id": "e5e9a04e",
   "metadata": {},
   "source": [
    "Mean Absolute Percentage Error"
   ]
  },
  {
   "cell_type": "code",
   "execution_count": 77,
   "id": "30bba002",
   "metadata": {},
   "outputs": [
    {
     "data": {
      "text/plain": [
       "0.021793783395103142"
      ]
     },
     "execution_count": 77,
     "metadata": {},
     "output_type": "execute_result"
    }
   ],
   "source": [
    "mean_absolute_percentage_error(real_test,test_predict)"
   ]
  },
  {
   "cell_type": "markdown",
   "id": "2907e503",
   "metadata": {},
   "source": [
    "## Predicting future values recursively after training data'"
   ]
  },
  {
   "cell_type": "code",
   "execution_count": 80,
   "id": "872038a8",
   "metadata": {},
   "outputs": [
    {
     "name": "stdout",
     "output_type": "stream",
     "text": [
      "[0.6058117]\n",
      "11\n"
     ]
    },
    {
     "data": {
      "text/plain": [
       "Text(0.5, 1.0, 'prediction')"
      ]
     },
     "execution_count": 80,
     "metadata": {},
     "output_type": "execute_result"
    },
    {
     "data": {
      "image/png": "[encoded data removed]",
      "text/plain": [
       "<Figure size 432x288 with 1 Axes>"
      ]
     },
     "metadata": {
      "needs_background": "light"
     },
     "output_type": "display_data"
    }
   ],
   "source": [
    "x_input=train_data[933:].reshape(1,-1)\n",
    "temp_input=list(x_input)\n",
    "temp_input=temp_input[0].tolist()\n",
    "\n",
    "from numpy import array\n",
    "\n",
    "lst_output=[]\n",
    "n_steps=10\n",
    "i=0\n",
    "while(i<30):\n",
    "    \n",
    "    if(len(temp_input)>10):\n",
    "        x_input=np.array(temp_input[1:])\n",
    "        x_input=x_input.reshape(1,-1)\n",
    "        x_input = x_input.reshape((1, n_steps, 1))\n",
    "        yhat = model2.predict(x_input, verbose=0)\n",
    "        temp_input.extend(yhat[0].tolist())\n",
    "        temp_input=temp_input[1:]\n",
    "        lst_output.extend(yhat.tolist())\n",
    "        i=i+1\n",
    "    else:\n",
    "        x_input = x_input.reshape((1, n_steps,1))\n",
    "        yhat = model2.predict(x_input, verbose=0)\n",
    "        print(yhat[0])\n",
    "        temp_input.extend(yhat[0].tolist())\n",
    "        print(len(temp_input))\n",
    "        lst_output.extend(yhat.tolist())\n",
    "        i=i+1\n",
    "sizee=train_data.shape\n",
    "\n",
    "he=np.arange(944,974,1)\n",
    "ze=np.arange(0,943)\n",
    "\n",
    "plt.plot(ze,scaler.inverse_transform(train_data))\n",
    "plt.plot(he,scaler.inverse_transform(lst_output))\n",
    "plt.plot(he,scaler.inverse_transform(test_data[0:30]))\n",
    "plt.legend(['trained','predicted','real'])\n",
    "plt.xlabel('time')\n",
    "plt.xlabel('price')\n",
    "plt.title('prediction')"
   ]
  },
  {
   "cell_type": "code",
   "execution_count": null,
   "id": "d420c73c",
   "metadata": {},
   "outputs": [],
   "source": []
  },
  {
   "cell_type": "code",
   "execution_count": null,
   "id": "ed32d5a3",
   "metadata": {},
   "outputs": [],
   "source": []
  }
 ],
 "metadata": {
  "kernelspec": {
   "display_name": "Python 3 (ipykernel)",
   "language": "python",
   "name": "python3"
  },
  "language_info": {
   "codemirror_mode": {
    "name": "ipython",
    "version": 3
   },
   "file_extension": ".py",
   "mimetype": "text/x-python",
   "name": "python",
   "nbconvert_exporter": "python",
   "pygments_lexer": "ipython3",
   "version": "3.9.12"
  }
 },
 "nbformat": 4,
 "nbformat_minor": 5
}
